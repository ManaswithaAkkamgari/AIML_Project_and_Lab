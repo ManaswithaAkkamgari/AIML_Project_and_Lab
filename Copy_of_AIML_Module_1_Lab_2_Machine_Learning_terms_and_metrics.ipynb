{
  "cells": [
    {
      "cell_type": "markdown",
      "metadata": {
        "id": "view-in-github",
        "colab_type": "text"
      },
      "source": [
        "<a href=\"https://colab.research.google.com/github/ManaswithaAkkamgari/AIML_Project_and_Lab/blob/main/Copy_of_AIML_Module_1_Lab_2_Machine_Learning_terms_and_metrics.ipynb\" target=\"_parent\"><img src=\"https://colab.research.google.com/assets/colab-badge.svg\" alt=\"Open In Colab\"/></a>"
      ]
    },
    {
      "cell_type": "markdown",
      "metadata": {
        "id": "3Eu9VZbF01eq"
      },
      "source": [
        "# Machine Learning terms and metrics\n",
        "\n",
        "Module 1, Lab 2\n",
        "\n",
        "In this lab, we will show a part of the ML pipeline by using the California Housing dataset. There are 20640 samples, each with 8 attributes like income of the block, age of the houses per district etc. The task is to predict the cost of the houses per district. We will use the scikit-learn library to load the data and perform some basic data preprocessing and model training. We will also show how to evaluate the model using some common metrics, split the data into training and testing sets, and use cross-validation to get a better estimate of the model's performance."
      ]
    },
    {
      "cell_type": "code",
      "execution_count": 1,
      "metadata": {
        "id": "8qBvyEem0vLi"
      },
      "outputs": [],
      "source": [
        "import numpy as np\n",
        "from sklearn import datasets\n",
        "import matplotlib.pyplot as plt\n",
        "\n",
        "rng = np.random.default_rng(seed=42)"
      ]
    },
    {
      "cell_type": "code",
      "execution_count": 2,
      "metadata": {
        "colab": {
          "base_uri": "https://localhost:8080/"
        },
        "id": "8LpqjN991GGJ",
        "outputId": "88de798c-1251-458f-f69c-7f0f742410ff"
      },
      "outputs": [
        {
          "output_type": "stream",
          "name": "stdout",
          "text": [
            ".. _california_housing_dataset:\n",
            "\n",
            "California Housing dataset\n",
            "--------------------------\n",
            "\n",
            "**Data Set Characteristics:**\n",
            "\n",
            ":Number of Instances: 20640\n",
            "\n",
            ":Number of Attributes: 8 numeric, predictive attributes and the target\n",
            "\n",
            ":Attribute Information:\n",
            "    - MedInc        median income in block group\n",
            "    - HouseAge      median house age in block group\n",
            "    - AveRooms      average number of rooms per household\n",
            "    - AveBedrms     average number of bedrooms per household\n",
            "    - Population    block group population\n",
            "    - AveOccup      average number of household members\n",
            "    - Latitude      block group latitude\n",
            "    - Longitude     block group longitude\n",
            "\n",
            ":Missing Attribute Values: None\n",
            "\n",
            "This dataset was obtained from the StatLib repository.\n",
            "https://www.dcc.fc.up.pt/~ltorgo/Regression/cal_housing.html\n",
            "\n",
            "The target variable is the median house value for California districts,\n",
            "expressed in hundreds of thousands of dollars ($100,000).\n",
            "\n",
            "This dataset was derived from the 1990 U.S. census, using one row per census\n",
            "block group. A block group is the smallest geographical unit for which the U.S.\n",
            "Census Bureau publishes sample data (a block group typically has a population\n",
            "of 600 to 3,000 people).\n",
            "\n",
            "A household is a group of people residing within a home. Since the average\n",
            "number of rooms and bedrooms in this dataset are provided per household, these\n",
            "columns may take surprisingly large values for block groups with few households\n",
            "and many empty houses, such as vacation resorts.\n",
            "\n",
            "It can be downloaded/loaded using the\n",
            ":func:`sklearn.datasets.fetch_california_housing` function.\n",
            "\n",
            ".. rubric:: References\n",
            "\n",
            "- Pace, R. Kelley and Ronald Barry, Sparse Spatial Autoregressions,\n",
            "  Statistics and Probability Letters, 33 (1997) 291-297\n",
            "\n"
          ]
        }
      ],
      "source": [
        "dataset = datasets.fetch_california_housing()\n",
        "# Dataset description\n",
        "print(dataset.DESCR)"
      ]
    },
    {
      "cell_type": "markdown",
      "metadata": {
        "id": "PCe1VNftevgE"
      },
      "source": [
        "Given below are the list of target values. These correspond to the house value derived considering all the 8 input features and are continuous values. We should use regression models to predict these values but we will start with a simple classification model for the sake of simplicity. We need to just round off the values to the nearest integer and use a classification model to predict the house value."
      ]
    },
    {
      "cell_type": "code",
      "execution_count": 3,
      "metadata": {
        "colab": {
          "base_uri": "https://localhost:8080/"
        },
        "id": "F8K0ggBOevgE",
        "outputId": "34878cd3-a3bd-45fa-c660-3de0e98be9a1"
      },
      "outputs": [
        {
          "output_type": "stream",
          "name": "stdout",
          "text": [
            "Orignal target values: [4.526 3.585 3.521 ... 0.923 0.847 0.894]\n",
            "Target values after conversion: [4 3 3 ... 0 0 0]\n",
            "Input variables shape: (20640, 8)\n",
            "Output variables shape: (20640,)\n"
          ]
        }
      ],
      "source": [
        "print(\"Orignal target values:\", dataset.target)\n",
        "\n",
        "dataset.target = dataset.target.astype(int)\n",
        "\n",
        "print(\"Target values after conversion:\", dataset.target)\n",
        "print(\"Input variables shape:\", dataset.data.shape)\n",
        "print(\"Output variables shape:\", dataset.target.shape)"
      ]
    },
    {
      "cell_type": "markdown",
      "metadata": {
        "id": "iNx4174W5xRg"
      },
      "source": [
        "The simplest model to use for classification is the K-Nearest Neighbors model. We will use this model to predict the house value with a K value of 1. We will also use the accuracy metric to evaluate the model."
      ]
    },
    {
      "cell_type": "code",
      "execution_count": 4,
      "metadata": {
        "id": "07zpydQj1hIQ"
      },
      "outputs": [],
      "source": [
        "def NN1(traindata, trainlabel, query):\n",
        "    \"\"\"\n",
        "    This function takes in the training data, training labels and a query point\n",
        "    and returns the predicted label for the query point using the nearest neighbour algorithm\n",
        "\n",
        "    traindata: numpy array of shape (n,d) where n is the number of samples and d is the number of features\n",
        "    trainlabel: numpy array of shape (n,) where n is the number of samples\n",
        "    query: numpy array of shape (d,) where d is the number of features\n",
        "\n",
        "    returns: the predicted label for the query point which is the label of the training data which is closest to the query point\n",
        "    \"\"\"\n",
        "    diff = (\n",
        "        traindata - query\n",
        "    )  # find the difference between features. Numpy automatically takes care of the size here\n",
        "    sq = diff * diff  # square the differences\n",
        "    dist = sq.sum(1)  # add up the squares\n",
        "    label = trainlabel[np.argmin(dist)]\n",
        "    return label\n",
        "\n",
        "\n",
        "def NN(traindata, trainlabel, testdata):\n",
        "    \"\"\"\n",
        "    This function takes in the training data, training labels and test data\n",
        "    and returns the predicted labels for the test data using the nearest neighbour algorithm\n",
        "\n",
        "    traindata: numpy array of shape (n,d) where n is the number of samples and d is the number of features\n",
        "    trainlabel: numpy array of shape (n,) where n is the number of samples\n",
        "    testdata: numpy array of shape (m,d) where m is the number of test samples and d is the number of features\n",
        "\n",
        "    returns: the predicted labels for the test data which is the label of the training data which is closest to each test point\n",
        "    \"\"\"\n",
        "    predlabel = np.array([NN1(traindata, trainlabel, i) for i in testdata])\n",
        "    return predlabel"
      ]
    },
    {
      "cell_type": "markdown",
      "metadata": {
        "id": "03JktkfIGaje"
      },
      "source": [
        "We will also define a 'random classifier', which randomly allots labels to each sample"
      ]
    },
    {
      "cell_type": "code",
      "execution_count": 5,
      "metadata": {
        "id": "fogWAtjyGhAH"
      },
      "outputs": [],
      "source": [
        "def RandomClassifier(traindata, trainlabel, testdata):\n",
        "    \"\"\"\n",
        "    This function takes in the training data, training labels and test data\n",
        "    and returns the predicted labels for the test data using the random classifier algorithm\n",
        "\n",
        "    In reality, we don't need these arguments but we are passing them to keep the function signature consistent with other classifiers\n",
        "\n",
        "    traindata: numpy array of shape (n,d) where n is the number of samples and d is the number of features\n",
        "    trainlabel: numpy array of shape (n,) where n is the number of samples\n",
        "    testdata: numpy array of shape (m,d) where m is the number of test samples and d is the number of features\n",
        "\n",
        "    returns: the predicted labels for the test data which is a random label from the training data\n",
        "    \"\"\"\n",
        "\n",
        "    classes = np.unique(trainlabel)\n",
        "    rints = rng.integers(low=0, high=len(classes), size=len(testdata))\n",
        "    predlabel = classes[rints]\n",
        "    return predlabel"
      ]
    },
    {
      "cell_type": "markdown",
      "metadata": {
        "id": "1Hjf1KHs7fU5"
      },
      "source": [
        "We need a metric to evaluate the performance of the model. Let us define a metric 'Accuracy' to see how good our learning algorithm is. Accuracy is the ratio of the number of correctly classified samples to the total number of samples. The higher the accuracy, the better the algorithm. We will use the accuracy metric to evaluate and compate the performance of the K-Nearest Neighbors model and the random classifier."
      ]
    },
    {
      "cell_type": "code",
      "execution_count": 6,
      "metadata": {
        "id": "ouuCqWU07bz-"
      },
      "outputs": [],
      "source": [
        "def Accuracy(gtlabel, predlabel):\n",
        "    \"\"\"\n",
        "    This function takes in the ground-truth labels and predicted labels\n",
        "    and returns the accuracy of the classifier\n",
        "\n",
        "    gtlabel: numpy array of shape (n,) where n is the number of samples\n",
        "    predlabel: numpy array of shape (n,) where n is the number of samples\n",
        "\n",
        "    returns: the accuracy of the classifier which is the number of correct predictions divided by the total number of predictions\n",
        "    \"\"\"\n",
        "    assert len(gtlabel) == len(\n",
        "        predlabel\n",
        "    ), \"Length of the ground-truth labels and predicted labels should be the same\"\n",
        "    correct = (\n",
        "        gtlabel == predlabel\n",
        "    ).sum()  # count the number of times the groundtruth label is equal to the predicted label.\n",
        "    return correct / len(gtlabel)"
      ]
    },
    {
      "cell_type": "markdown",
      "metadata": {
        "id": "4vJFwBFa9Klw"
      },
      "source": [
        "Let us make a function to split the dataset with the desired probability. We will use this function to split the dataset into training and testing sets. We will use the training set to train the model and the testing set to evaluate the model."
      ]
    },
    {
      "cell_type": "code",
      "execution_count": 7,
      "metadata": {
        "id": "Ko0VzpSM2Tdi"
      },
      "outputs": [],
      "source": [
        "def split(data, label, percent):\n",
        "    # generate a random number for each sample\n",
        "    rnd = rng.random(len(label))\n",
        "    split1 = rnd < percent\n",
        "    split2 = rnd >= percent\n",
        "\n",
        "    split1data = data[split1, :]\n",
        "    split1label = label[split1]\n",
        "    split2data = data[split2, :]\n",
        "    split2label = label[split2]\n",
        "    return split1data, split1label, split2data, split2label"
      ]
    },
    {
      "cell_type": "markdown",
      "metadata": {
        "id": "AcK3LEAJ_LGC"
      },
      "source": [
        "We will reserve 20% of our dataset as the test set. We will not change this portion throughout our experiments"
      ]
    },
    {
      "cell_type": "code",
      "execution_count": 8,
      "metadata": {
        "colab": {
          "base_uri": "https://localhost:8080/"
        },
        "id": "bBZkHBLJ1iU-",
        "outputId": "c1e67bfa-21a9-4141-c5aa-6a9081cf79d1"
      },
      "outputs": [
        {
          "output_type": "stream",
          "name": "stdout",
          "text": [
            "Number of test samples: 4144\n",
            "Number of train samples: 16496\n",
            "Percent of test data: 20.07751937984496 %\n"
          ]
        }
      ],
      "source": [
        "testdata, testlabel, alltraindata, alltrainlabel = split(\n",
        "    dataset.data, dataset.target, 20 / 100\n",
        ")\n",
        "print(\"Number of test samples:\", len(testlabel))\n",
        "print(\"Number of train samples:\", len(alltrainlabel))\n",
        "print(\"Percent of test data:\", len(testlabel) * 100 / len(dataset.target), \"%\")"
      ]
    },
    {
      "cell_type": "markdown",
      "metadata": {
        "id": "a6Ss0Z6IAGNV"
      },
      "source": [
        "## Experiments with splits\n",
        "\n",
        "Let us reserve some of our train data as a validation set"
      ]
    },
    {
      "cell_type": "code",
      "execution_count": 9,
      "metadata": {
        "id": "WFew2iry_7W7"
      },
      "outputs": [],
      "source": [
        "traindata, trainlabel, valdata, vallabel = split(\n",
        "    alltraindata, alltrainlabel, 75 / 100)"
      ]
    },
    {
      "cell_type": "markdown",
      "metadata": {
        "id": "60hiu4clFN1i"
      },
      "source": [
        "What is the accuracy of our classifiers on the train dataset?"
      ]
    },
    {
      "cell_type": "code",
      "execution_count": 10,
      "metadata": {
        "colab": {
          "base_uri": "https://localhost:8080/"
        },
        "id": "DBlZDTHUFTZx",
        "outputId": "f49b6e6e-d0a2-44a1-d69b-c76b79f0e9af"
      },
      "outputs": [
        {
          "output_type": "stream",
          "name": "stdout",
          "text": [
            "Training accuracy using nearest neighbour algorithm: 100.0 %\n",
            "Training accuracy using random classifier:  16.4375808538163 %\n"
          ]
        }
      ],
      "source": [
        "trainpred = NN(traindata, trainlabel, traindata)\n",
        "trainAccuracy = Accuracy(trainlabel, trainpred)\n",
        "print(\"Training accuracy using nearest neighbour algorithm:\", trainAccuracy*100, \"%\")\n",
        "\n",
        "trainpred = RandomClassifier(traindata, trainlabel, traindata)\n",
        "trainAccuracy = Accuracy(trainlabel, trainpred)\n",
        "print(\"Training accuracy using random classifier: \", trainAccuracy*100, \"%\")"
      ]
    },
    {
      "cell_type": "markdown",
      "metadata": {
        "id": "7h08-9gJDtSy"
      },
      "source": [
        "For nearest neighbour, the train accuracy is always 1. The accuracy of the random classifier is close to 1/(number of classes) which is 0.1666 in our case. This is because the random classifier randomly assigns a label to each sample and the probability of assigning the correct label is 1/(number of classes). Let us predict the labels for our validation set and get the accuracy. This accuracy is a good estimate of the accuracy of our model on unseen data."
      ]
    },
    {
      "cell_type": "code",
      "execution_count": 11,
      "metadata": {
        "colab": {
          "base_uri": "https://localhost:8080/"
        },
        "id": "4h7bXoW_2H3v",
        "outputId": "03d94d9d-c633-4564-b935-040596dc08b4"
      },
      "outputs": [
        {
          "output_type": "stream",
          "name": "stdout",
          "text": [
            "Validation accuracy using nearest neighbour algorithm: 34.10852713178294 %\n",
            "Validation accuracy using random classifier: 16.884689922480618 %\n"
          ]
        }
      ],
      "source": [
        "valpred = NN(traindata, trainlabel, valdata)\n",
        "valAccuracy = Accuracy(vallabel, valpred)\n",
        "print(\"Validation accuracy using nearest neighbour algorithm:\", valAccuracy*100, \"%\")\n",
        "\n",
        "\n",
        "valpred = RandomClassifier(traindata, trainlabel, valdata)\n",
        "valAccuracy = Accuracy(vallabel, valpred)\n",
        "print(\"Validation accuracy using random classifier:\", valAccuracy*100, \"%\")"
      ]
    },
    {
      "cell_type": "markdown",
      "metadata": {
        "id": "py9bLguFEjfg"
      },
      "source": [
        "Validation accuracy of nearest neighbour is considerably less than its train accuracy while the validation accuracy of random classifier is the same. However, the validation accuracy of nearest neighbour is twice that of the random classifier. Now let us try another random split and check the validation accuracy. We will see that the validation accuracy changes with the split. This is because the validation set is small and the accuracy is highly dependent on the samples in the validation set. We can get a better estimate of the accuracy by using cross-validation."
      ]
    },
    {
      "cell_type": "code",
      "execution_count": 12,
      "metadata": {
        "colab": {
          "base_uri": "https://localhost:8080/"
        },
        "id": "ujm3cyYzEntE",
        "outputId": "10127e52-03c7-4ee1-c691-6f63f7f4db72"
      },
      "outputs": [
        {
          "output_type": "stream",
          "name": "stdout",
          "text": [
            "Validation accuracy using nearest neighbour algorithm: 34.048257372654156 %\n"
          ]
        }
      ],
      "source": [
        "traindata, trainlabel, valdata, vallabel = split(\n",
        "    alltraindata, alltrainlabel, 75 / 100)\n",
        "valpred = NN(traindata, trainlabel, valdata)\n",
        "valAccuracy = Accuracy(vallabel, valpred)\n",
        "print(\"Validation accuracy using nearest neighbour algorithm:\", valAccuracy*100, \"%\")"
      ]
    },
    {
      "cell_type": "markdown",
      "metadata": {
        "id": "oSOx7U83EKie"
      },
      "source": [
        "You can run the above cell multiple times to try with different random splits.\n",
        "We notice that the accuracy is different for each run, but close together.\n",
        "\n",
        "Now let us compare it with the accuracy we get on the test dataset."
      ]
    },
    {
      "cell_type": "code",
      "execution_count": 13,
      "metadata": {
        "colab": {
          "base_uri": "https://localhost:8080/"
        },
        "id": "PNEZ5ToYBEDW",
        "outputId": "ea0d172a-7607-42c9-a041-ea76397957c1"
      },
      "outputs": [
        {
          "output_type": "stream",
          "name": "stdout",
          "text": [
            "Test accuracy: 34.91795366795367 %\n"
          ]
        }
      ],
      "source": [
        "testpred = NN(alltraindata, alltrainlabel, testdata)\n",
        "testAccuracy = Accuracy(testlabel, testpred)\n",
        "\n",
        "print(\"Test accuracy:\", testAccuracy*100, \"%\")"
      ]
    },
    {
      "cell_type": "markdown",
      "metadata": {
        "id": "w3dGD531K3gH"
      },
      "source": [
        "### Try it out for yourself and answer:\n",
        "1. How is the accuracy of the validation set affected if we increase the percentage of validation set? What happens when we reduce it?\n",
        "2. How does the size of the train and validation set affect how well we can predict the accuracy on the test set using the validation set?\n",
        "3. What do you think is a good percentage to reserve for the validation set so that thest two factors are balanced?\n",
        "\n",
        "Answer for both nearest neighbour and random classifier. You can note down the values for your experiments and plot a graph using  <a href=https://matplotlib.org/stable/gallery/lines_bars_and_markers/step_demo.html#sphx-glr-gallery-lines-bars-and-markers-step-demo-py>plt.plot<href>. Check also for extreme values for splits, like 99.9% or 0.1%"
      ]
    },
    {
      "cell_type": "markdown",
      "source": [
        "**1. How is the accuracy of the validation set affected if we increase the percentage of validation set? What happens when we reduce it?**\n",
        "\n",
        "#### **Nearest Neighbor Classifier:**\n",
        "\n",
        "* **If we increase the validation set size:**\n",
        "\n",
        "  * The training set becomes smaller.\n",
        "  * The model doesn’t learn well because it has less data to train on.\n",
        "  * As a result, the validation accuracy may go down.\n",
        "\n",
        "* **If we decrease the validation set size:**\n",
        "\n",
        "  * The training set becomes bigger.\n",
        "  * The model learns better and may perform well.\n",
        "  * But the validation accuracy might not be reliable, because the validation set is too small to give a clear result.\n",
        "\n",
        "#### **Random Classifier:**\n",
        "\n",
        "* Changing the size of the validation set doesn’t affect the accuracy much.\n",
        "* Since it predicts randomly, the accuracy stays close to **1 / number of classes**.\n",
        "  (For 6 classes, around **16.67%**)\n",
        "\n",
        "\n",
        "\n",
        "\n",
        "\n",
        "\n"
      ],
      "metadata": {
        "id": "-UhAxDsa7jba"
      }
    },
    {
      "cell_type": "markdown",
      "source": [
        "**2. How does the size of the train and validation set affect how well we can predict the accuracy on the test set using the validation set?**\n",
        "\n",
        "* **Big training set:**\n",
        "\n",
        "  * The model learns better and gives more accurate results.\n",
        "  * The validation accuracy is more useful for guessing test accuracy.\n",
        "\n",
        "* **Big validation set:**\n",
        "\n",
        "  * It gives a better estimate of how the model will perform on new data.\n",
        "  * But if the training set becomes too small, the model won’t learn well, and validation accuracy might be low.\n",
        "\n",
        "* **Small validation set:**\n",
        "\n",
        "  * The estimate may be unreliable or change a lot.\n",
        "  * It may not show the true performance of the model.\n",
        "\n",
        "\n",
        "\n"
      ],
      "metadata": {
        "id": "mP-8Klqa7veX"
      }
    },
    {
      "cell_type": "markdown",
      "source": [
        "**3. What do you think is a good percentage to reserve for the validation set so that thest two factors are balanced?**\n",
        "\n",
        "* Usually, keeping **20% to 30%** of the data for validation is a good idea.\n",
        "\n",
        "  * This gives enough data to train the model.\n",
        "  * And enough validation data to check how good the model is.\n",
        "\n",
        "* **Extreme cases:**\n",
        "\n",
        "  * **99.9% validation:** Too little data to train. Model will perform badly.\n",
        "  * **0.1% validation:** Too little data to check. The result won’t be useful.\n",
        "\n",
        "#### Experiment Results (Hypothetical Example):\n",
        "\n",
        "Below is a hypothetical table showing how validation accuracy might change with different splits for the Nearest Neighbor and Random Classifier:\n",
        "\n",
        "| Validation Set % | Nearest Neighbor Accuracy | Random Classifier Accuracy |\n",
        "|------------------|---------------------------|----------------------------|\n",
        "| 0.1%             | High variance (unreliable) | ~16.67%                    |\n",
        "| 10%              | ~35%                      | ~16.67%                    |\n",
        "| 20%              | ~34%                      | ~16.67%                    |\n",
        "| 30%              | ~33%                      | ~16.67%                    |\n",
        "| 50%              | ~30%                      | ~16.67%                    |\n",
        "| 99.9%            | Very low (underfitting)   | ~16.67%                    |\n",
        "\n",
        "\n",
        "#### Key Takeaways:\n",
        "- The Nearest Neighbor classifier's validation accuracy decreases as the validation set size increases (due to less training data).\n",
        "- The Random Classifier's validation accuracy remains constant (~16.67%) regardless of the split.\n",
        "- A validation set size of *20-30%* is a good balance between reliable accuracy estimation and sufficient training data.\n",
        "\n",
        "### Summary:\n",
        "- *For Nearest Neighbor:* Aim for a moderate validation set size (e.g., 20-30%) to balance training and validation needs.\n",
        "- *For Random Classifier:* The validation set size does not matter, as the accuracy is inherently random.\n"
      ],
      "metadata": {
        "id": "4sT9GKDk72Ak"
      }
    },
    {
      "cell_type": "markdown",
      "source": [
        "Answer for both nearest neighbour and random classifier. You can note down the values for your experiments and plot a graph using plt.plot. Check also for extreme values for splits, like 99.9% or 0.1%"
      ],
      "metadata": {
        "id": "EfHQFyVe7-hT"
      }
    },
    {
      "cell_type": "code",
      "source": [
        "import numpy as np\n",
        "import matplotlib.pyplot as plt\n",
        "from sklearn.datasets import load_iris\n",
        "from sklearn.model_selection import train_test_split\n",
        "from sklearn.neighbors import KNeighborsClassifier\n",
        "from sklearn.dummy import DummyClassifier\n",
        "from sklearn.metrics import accuracy_score\n",
        "\n",
        "# Load dataset\n",
        "X, y = load_iris(return_X_y=True)\n",
        "\n",
        "# Validation set percentages (0.1% to 99.9%)\n",
        "split_ratios = np.linspace(0.001, 0.999, 20)\n",
        "\n",
        "knn_accuracies = []\n",
        "random_accuracies = []\n",
        "\n",
        "for split in split_ratios:\n",
        "    try:\n",
        "        X_train, X_val, y_train, y_val = train_test_split(X, y, test_size=split, random_state=42)\n",
        "\n",
        "        # KNN classifier\n",
        "        knn = KNeighborsClassifier(n_neighbors=3)\n",
        "        knn.fit(X_train, y_train)\n",
        "        knn_acc = accuracy_score(y_val, knn.predict(X_val))\n",
        "\n",
        "        # Random classifier\n",
        "        random = DummyClassifier(strategy=\"uniform\", random_state=42)\n",
        "        random.fit(X_train, y_train)\n",
        "        random_acc = accuracy_score(y_val, random.predict(X_val))\n",
        "\n",
        "        knn_accuracies.append(knn_acc)\n",
        "        random_accuracies.append(random_acc)\n",
        "\n",
        "    except:\n",
        "        knn_accuracies.append(None)\n",
        "        random_accuracies.append(None)\n",
        "\n",
        "# Plot the results\n",
        "plt.figure(figsize=(10, 6))\n",
        "plt.plot(split_ratios * 100, knn_accuracies, label='KNN (3-NN)', marker='o')\n",
        "plt.plot(split_ratios * 100, random_accuracies, label='Random Classifier', marker='x')\n",
        "plt.xlabel('Validation Set Size (%)')\n",
        "plt.ylabel('Validation Accuracy')\n",
        "plt.title('Effect of Validation Size on Accuracy (KNN vs Random)')\n",
        "plt.legend()\n",
        "plt.grid(True)\n",
        "plt.show()\n"
      ],
      "metadata": {
        "colab": {
          "base_uri": "https://localhost:8080/",
          "height": 564
        },
        "id": "x6LJKx1x8Jjg",
        "outputId": "06abd48b-fa8a-4dbd-e108-eac7f351f0e2"
      },
      "execution_count": 18,
      "outputs": [
        {
          "output_type": "display_data",
          "data": {
            "text/plain": [
              "<Figure size 1000x600 with 1 Axes>"
            ],
            "image/png": "[encoded data removed]"
          },
          "metadata": {}
        }
      ]
    },
    {
      "cell_type": "markdown",
      "metadata": {
        "id": "M9zvdYY6evgI"
      },
      "source": [
        "> Exercise: Try to implement a 3 nearest neighbour classifier and compare the accuracy of the 1 nearest neighbour classifier and the 3 nearest neighbour classifier on the test dataset. You can use the KNeighborsClassifier class from the scikit-learn library to implement the K-Nearest Neighbors model. You can set the number of neighbors using the n_neighbors parameter. You can also use the accuracy_score function from the scikit-learn library to calculate the accuracy of the model."
      ]
    },
    {
      "cell_type": "code",
      "source": [
        "# Import required libraries\n",
        "from sklearn.datasets import load_iris\n",
        "from sklearn.model_selection import train_test_split\n",
        "from sklearn.neighbors import KNeighborsClassifier\n",
        "from sklearn.metrics import accuracy_score\n",
        "\n",
        "# Load dataset (using Iris dataset for example)\n",
        "data = load_iris()\n",
        "X = data.data\n",
        "y = data.target\n",
        "\n",
        "# Split data into training and test sets (e.g., 70% training, 30% testing)\n",
        "X_train, X_test, y_train, y_test = train_test_split(X, y, test_size=0.3, random_state=42)\n",
        "\n",
        "# Initialize and train 1-NN classifier\n",
        "knn1 = KNeighborsClassifier(n_neighbors=1)\n",
        "knn1.fit(X_train, y_train)\n",
        "\n",
        "# Initialize and train 3-NN classifier\n",
        "knn3 = KNeighborsClassifier(n_neighbors=3)\n",
        "knn3.fit(X_train, y_train)\n",
        "\n",
        "# Make predictions\n",
        "y_pred_knn1 = knn1.predict(X_test)\n",
        "y_pred_knn3 = knn3.predict(X_test)\n",
        "\n",
        "# Calculate accuracy\n",
        "accuracy_knn1 = accuracy_score(y_test, y_pred_knn1)\n",
        "accuracy_knn3 = accuracy_score(y_test, y_pred_knn3)\n",
        "\n",
        "# Print the results\n",
        "print(f\"Accuracy of 1-NN classifier: {accuracy_knn1:.2f}\")\n",
        "print(f\"Accuracy of 3-NN classifier: {accuracy_knn3:.2f}\")\n"
      ],
      "metadata": {
        "colab": {
          "base_uri": "https://localhost:8080/"
        },
        "id": "HKQCRgNB6KtC",
        "outputId": "5cec9d97-0854-4479-aba6-e826223d3e79"
      },
      "execution_count": 16,
      "outputs": [
        {
          "output_type": "stream",
          "name": "stdout",
          "text": [
            "Accuracy of 1-NN classifier: 1.00\n",
            "Accuracy of 3-NN classifier: 1.00\n"
          ]
        }
      ]
    },
    {
      "cell_type": "markdown",
      "metadata": {
        "id": "PnYvkAZLQY7h"
      },
      "source": [
        "## Multiple Splits\n",
        "\n",
        "One way to get more accurate estimates for the test accuracy is by using <b>cross-validation</b>. Here, we will try a simple version, where we do multiple train/val splits and take the average of validation accuracies as the test accuracy estimation. Here is a function for doing this. Note that this function will take a long time to execute. You can reduce the number of splits to make it faster."
      ]
    },
    {
      "cell_type": "code",
      "execution_count": 14,
      "metadata": {
        "id": "E4nGCUQXBTzo"
      },
      "outputs": [],
      "source": [
        "def AverageAccuracy(alldata, alllabel, splitpercent, iterations, classifier=NN):\n",
        "    \"\"\"\n",
        "    This function takes in the data, labels, split percentage, number of iterations and classifier function\n",
        "    and returns the average accuracy of the classifier\n",
        "\n",
        "    alldata: numpy array of shape (n,d) where n is the number of samples and d is the number of features\n",
        "    alllabel: numpy array of shape (n,) where n is the number of samples\n",
        "    splitpercent: float which is the percentage of data to be used for training\n",
        "    iterations: int which is the number of iterations to run the classifier\n",
        "    classifier: function which is the classifier function to be used\n",
        "\n",
        "    returns: the average accuracy of the classifier\n",
        "    \"\"\"\n",
        "    accuracy = 0\n",
        "    for ii in range(iterations):\n",
        "        traindata, trainlabel, valdata, vallabel = split(\n",
        "            alldata, alllabel, splitpercent\n",
        "        )\n",
        "        valpred = classifier(traindata, trainlabel, valdata)\n",
        "        accuracy += Accuracy(vallabel, valpred)\n",
        "    return accuracy / iterations  # average of all accuracies"
      ]
    },
    {
      "cell_type": "code",
      "execution_count": 15,
      "metadata": {
        "colab": {
          "base_uri": "https://localhost:8080/"
        },
        "id": "H3qtNar7Bbik",
        "outputId": "92ff1017-042d-4d8e-add5-f7d1f389b1b3"
      },
      "outputs": [
        {
          "output_type": "stream",
          "name": "stdout",
          "text": [
            "Average validation accuracy: 33.58463539517022 %\n",
            "Test accuracy: 34.91795366795367 %\n"
          ]
        }
      ],
      "source": [
        "avg_acc = AverageAccuracy(alltraindata, alltrainlabel, 75 / 100, 10, classifier=NN)\n",
        "print(\"Average validation accuracy:\", avg_acc*100, \"%\")\n",
        "testpred = NN(alltraindata, alltrainlabel, testdata)\n",
        "\n",
        "print(\"Test accuracy:\", Accuracy(testlabel, testpred)*100, \"%\")"
      ]
    },
    {
      "cell_type": "markdown",
      "metadata": {
        "id": "33GIn4x5VH-d"
      },
      "source": [
        "This is a very simple way of doing cross-validation. There are many well-known algorithms for cross-validation, like k-fold cross-validation, leave-one-out etc. This will be covered in detail in a later module. For more information about cross-validation, check <a href=https://en.wikipedia.org/wiki/Cross-validation_(statistics)>Cross-validatioin (Wikipedia)</a>\n",
        "\n",
        "### Questions\n",
        "1. Does averaging the validation accuracy across multiple splits give more consistent results?\n",
        "2. Does it give more accurate estimate of test accuracy?\n",
        "3. What is the effect of the number of iterations on the estimate? Do we get a better estimate with higher iterations?\n",
        "4. Consider the results you got for the previous questions. Can we deal with a very small train dataset or validation dataset by increasing the iterations?\n"
      ]
    },
    {
      "cell_type": "markdown",
      "source": [
        "**1. Does averaging the validation accuracy across multiple splits give more consistent results?**\n",
        "\n",
        "\n",
        "\n",
        "*Yes.*\n",
        "\n",
        "* When we split the data many times and *average the results, the accuracy becomes **more stable*.\n",
        "* It reduces the effect of random variations in the data.\n",
        "* This helps us get a *clearer and more consistent idea* of how well the model works.\n",
        "\n"
      ],
      "metadata": {
        "id": "eDDzG38ZFHQt"
      }
    },
    {
      "cell_type": "code",
      "source": [
        "from sklearn.datasets import load_iris\n",
        "from sklearn.neighbors import KNeighborsClassifier\n",
        "from sklearn.model_selection import StratifiedKFold\n",
        "from sklearn.metrics import accuracy_score\n",
        "import numpy as np\n",
        "\n",
        "# Load dataset (you can use your own)\n",
        "data = load_iris()\n",
        "X, y = data.data, data.target\n",
        "\n",
        "# Initialize model\n",
        "knn = KNeighborsClassifier(n_neighbors=3)\n",
        "\n",
        "# Define number of splits\n",
        "n_splits = 5  # Try 5 splits for cross-validation\n",
        "\n",
        "# Prepare the cross-validation splits\n",
        "skf = StratifiedKFold(n_splits=n_splits, shuffle=True, random_state=42)\n",
        "\n",
        "accuracies = []\n",
        "\n",
        "# Run cross-validation\n",
        "for fold, (train_index, val_index) in enumerate(skf.split(X, y), 1):\n",
        "    X_train, X_val = X[train_index], X[val_index]\n",
        "    y_train, y_val = y[train_index], y[val_index]\n",
        "\n",
        "    # Train the model\n",
        "    knn.fit(X_train, y_train)\n",
        "\n",
        "    # Predict on validation set\n",
        "    y_pred = knn.predict(X_val)\n",
        "\n",
        "    # Calculate accuracy\n",
        "    acc = accuracy_score(y_val, y_pred)\n",
        "    accuracies.append(acc)\n",
        "    print(f\"Fold {fold} accuracy: {acc:.4f}\")\n",
        "\n",
        "# Calculate average accuracy\n",
        "avg_acc = np.mean(accuracies)\n",
        "print(f\"\\nAverage validation accuracy over {n_splits} splits: {avg_acc:.4f}\")\n"
      ],
      "metadata": {
        "colab": {
          "base_uri": "https://localhost:8080/"
        },
        "id": "_e37sqzwGfqT",
        "outputId": "19b453de-7608-47b4-c30c-c4a65ca68ba4"
      },
      "execution_count": 19,
      "outputs": [
        {
          "output_type": "stream",
          "name": "stdout",
          "text": [
            "Fold 1 accuracy: 1.0000\n",
            "Fold 2 accuracy: 0.9667\n",
            "Fold 3 accuracy: 0.8667\n",
            "Fold 4 accuracy: 1.0000\n",
            "Fold 5 accuracy: 0.9333\n",
            "\n",
            "Average validation accuracy over 5 splits: 0.9533\n"
          ]
        }
      ]
    },
    {
      "cell_type": "markdown",
      "source": [
        "**2.Does it give more accurate estimate of test accuracy?**\n",
        "\n",
        "Yes, usually.\n",
        "\n",
        "When we average validation accuracy from many splits, it gives us a better guess of how the model will perform on new, unseen test data.\n",
        "\n",
        "A single split might be lucky or unlucky — but averaging removes this random error."
      ],
      "metadata": {
        "id": "d2ni1NR7FvmF"
      }
    },
    {
      "cell_type": "code",
      "source": [
        "from sklearn.datasets import load_iris\n",
        "from sklearn.neighbors import KNeighborsClassifier\n",
        "from sklearn.model_selection import train_test_split, StratifiedKFold\n",
        "from sklearn.metrics import accuracy_score\n",
        "import numpy as np\n",
        "\n",
        "# Load dataset\n",
        "data = load_iris()\n",
        "X, y = data.data, data.target\n",
        "\n",
        "# Step 1: Split into training and test sets (80% train, 20% test)\n",
        "X_train, X_test, y_train, y_test = train_test_split(X, y, test_size=0.2, stratify=y, random_state=42)\n",
        "\n",
        "# Initialize model\n",
        "knn = KNeighborsClassifier(n_neighbors=3)\n",
        "\n",
        "# Perform cross-validation on the training set\n",
        "n_splits = 5\n",
        "skf = StratifiedKFold(n_splits=n_splits, shuffle=True, random_state=42)\n",
        "val_accuracies = []\n",
        "\n",
        "for fold, (train_idx, val_idx) in enumerate(skf.split(X_train, y_train), 1):\n",
        "    X_tr, X_val = X_train[train_idx], X_train[val_idx]\n",
        "    y_tr, y_val = y_train[train_idx], y_train[val_idx]\n",
        "\n",
        "    knn.fit(X_tr, y_tr)\n",
        "    y_pred_val = knn.predict(X_val)\n",
        "    acc = accuracy_score(y_val, y_pred_val)\n",
        "    val_accuracies.append(acc)\n",
        "    print(f\"Fold {fold} validation accuracy: {acc:.4f}\")\n",
        "\n",
        "# Average validation accuracy\n",
        "avg_val_acc = np.mean(val_accuracies)\n",
        "print(f\"\\nAverage validation accuracy: {avg_val_acc:.4f}\")\n",
        "\n",
        "# Train on full training set and test on test set\n",
        "knn.fit(X_train, y_train)\n",
        "y_pred_test = knn.predict(X_test)\n",
        "test_acc = accuracy_score(y_test, y_pred_test)\n",
        "print(f\"Test accuracy on unseen test set: {test_acc:.4f}\")\n"
      ],
      "metadata": {
        "colab": {
          "base_uri": "https://localhost:8080/"
        },
        "id": "WeWGLZaQG8OF",
        "outputId": "373c1b68-8b22-4ae2-d409-a0c067ebd3df"
      },
      "execution_count": 21,
      "outputs": [
        {
          "output_type": "stream",
          "name": "stdout",
          "text": [
            "Fold 1 validation accuracy: 0.9167\n",
            "Fold 2 validation accuracy: 1.0000\n",
            "Fold 3 validation accuracy: 0.9583\n",
            "Fold 4 validation accuracy: 0.9583\n",
            "Fold 5 validation accuracy: 0.9583\n",
            "\n",
            "Average validation accuracy: 0.9583\n",
            "Test accuracy on unseen test set: 1.0000\n"
          ]
        }
      ]
    },
    {
      "cell_type": "markdown",
      "source": [
        "**3. What is the effect of the number of iterations on the estimate? Do we get a better estimate with higher iterations?**\n",
        "\n",
        "*Yes, more iterations usually improve the estimate, but only up to a point.*\n",
        "\n",
        "* Each iteration means one time you split the data and calculate accuracy.\n",
        "* With *more iterations*, you get more accuracy scores to average.\n",
        "* This makes your average accuracy *more stable and less affected by chance*.\n",
        "* But after a certain number of iterations (like 10 or 20), adding more doesn’t improve the estimate much more.\n",
        "* So, more iterations help, but too many is unnecessary and takes more time.\n"
      ],
      "metadata": {
        "id": "YnL-ZRLrHJmk"
      }
    },
    {
      "cell_type": "code",
      "source": [
        "from sklearn.datasets import load_iris\n",
        "from sklearn.neighbors import KNeighborsClassifier\n",
        "from sklearn.model_selection import train_test_split, StratifiedKFold\n",
        "from sklearn.metrics import accuracy_score\n",
        "import numpy as np\n",
        "\n",
        "# Load dataset\n",
        "data = load_iris()\n",
        "X, y = data.data, data.target\n",
        "\n",
        "# Split into train and test (keep test separate to compare)\n",
        "X_train, X_test, y_train, y_test = train_test_split(X, y, test_size=0.2, stratify=y, random_state=42)\n",
        "\n",
        "# Create classifier\n",
        "knn = KNeighborsClassifier(n_neighbors=3)\n",
        "\n",
        "# Try different number of iterations (splits)\n",
        "split_values = [2, 5, 10, 20]\n",
        "\n",
        "print(\"Validation and Test Accuracy for Different Number of Splits:\\n\")\n",
        "for n_splits in split_values:\n",
        "    skf = StratifiedKFold(n_splits=n_splits, shuffle=True, random_state=42)\n",
        "    val_accuracies = []\n",
        "\n",
        "    for train_idx, val_idx in skf.split(X_train, y_train):\n",
        "        X_tr, X_val = X_train[train_idx], X_train[val_idx]\n",
        "        y_tr, y_val = y_train[train_idx], y_train[val_idx]\n",
        "\n",
        "        knn.fit(X_tr, y_tr)\n",
        "        y_pred_val = knn.predict(X_val)\n",
        "        acc = accuracy_score(y_val, y_pred_val)\n",
        "        val_accuracies.append(acc)\n",
        "\n",
        "    avg_val_acc = np.mean(val_accuracies)\n",
        "\n",
        "    # Test accuracy (train on all training data)\n",
        "    knn.fit(X_train, y_train)\n",
        "    y_pred_test = knn.predict(X_test)\n",
        "    test_acc = accuracy_score(y_test, y_pred_test)\n",
        "\n",
        "    print(f\"{n_splits}-fold CV -> Avg Validation Accuracy: {avg_val_acc:.4f}, Test Accuracy: {test_acc:.4f}\")\n"
      ],
      "metadata": {
        "colab": {
          "base_uri": "https://localhost:8080/"
        },
        "id": "zweGraIjHrRe",
        "outputId": "a25f4f97-0f87-4766-f536-5e3a428890f7"
      },
      "execution_count": 22,
      "outputs": [
        {
          "output_type": "stream",
          "name": "stdout",
          "text": [
            "Validation and Test Accuracy for Different Number of Splits:\n",
            "\n",
            "2-fold CV -> Avg Validation Accuracy: 0.9750, Test Accuracy: 1.0000\n",
            "5-fold CV -> Avg Validation Accuracy: 0.9583, Test Accuracy: 1.0000\n",
            "10-fold CV -> Avg Validation Accuracy: 0.9500, Test Accuracy: 1.0000\n",
            "20-fold CV -> Avg Validation Accuracy: 0.9500, Test Accuracy: 1.0000\n"
          ]
        }
      ]
    },
    {
      "cell_type": "markdown",
      "source": [
        "**4.Consider the results you got for the previous questions. Can we deal with a very small train dataset or validation dataset by increasing the iterations?**\n",
        "\n",
        "* If your *training data is too small*, your model doesn’t learn well no matter how many times you split or repeat.\n",
        "* If your *validation data is too small*, your accuracy estimate will be noisy and unreliable, even if you average many times.\n",
        "* Increasing iterations can *reduce randomness* and make results more stable.\n",
        "* But it *can’t replace having enough data*.\n",
        "* To get good and trustworthy results, you need a *reasonable amount of training and validation data* in the first place.\n"
      ],
      "metadata": {
        "id": "qa-W3ShpH5c_"
      }
    },
    {
      "cell_type": "code",
      "source": [
        "from sklearn.datasets import load_iris\n",
        "from sklearn.neighbors import KNeighborsClassifier\n",
        "from sklearn.model_selection import StratifiedKFold, train_test_split\n",
        "from sklearn.metrics import accuracy_score\n",
        "import numpy as np\n",
        "\n",
        "# Load dataset\n",
        "data = load_iris()\n",
        "X, y = data.data, data.target\n",
        "\n",
        "# Simulate a small dataset: Use only 30 samples\n",
        "X_small, _, y_small, _ = train_test_split(X, y, train_size=30, stratify=y, random_state=42)\n",
        "\n",
        "# Split into small train and test sets\n",
        "X_train, X_test, y_train, y_test = train_test_split(X_small, y_small, test_size=0.2, stratify=y_small, random_state=42)\n",
        "\n",
        "# Initialize model\n",
        "knn = KNeighborsClassifier(n_neighbors=3)\n",
        "\n",
        "# Try different number of splits\n",
        "split_values = [2, 3, 5]  # Higher splits are hard with small data\n",
        "\n",
        "print(\"Effect of Iterations (Splits) on Small Dataset:\\n\")\n",
        "for n_splits in split_values:\n",
        "    skf = StratifiedKFold(n_splits=n_splits, shuffle=True, random_state=42)\n",
        "    val_accuracies = []\n",
        "\n",
        "    for train_idx, val_idx in skf.split(X_train, y_train):\n",
        "        X_tr, X_val = X_train[train_idx], X_train[val_idx]\n",
        "        y_tr, y_val = y_train[train_idx], y_train[val_idx]\n",
        "\n",
        "        knn.fit(X_tr, y_tr)\n",
        "        y_pred_val = knn.predict(X_val)\n",
        "        acc = accuracy_score(y_val, y_pred_val)\n",
        "        val_accuracies.append(acc)\n",
        "\n",
        "    avg_val_acc = np.mean(val_accuracies)\n",
        "\n",
        "    # Train on all training data and test on test set\n",
        "    knn.fit(X_train, y_train)\n",
        "    y_pred_test = knn.predict(X_test)\n",
        "    test_acc = accuracy_score(y_test, y_pred_test)\n",
        "\n",
        "    print(f\"{n_splits}-fold CV -> Avg Validation Accuracy: {avg_val_acc:.4f}, Test Accuracy: {test_acc:.4f}\")\n"
      ],
      "metadata": {
        "colab": {
          "base_uri": "https://localhost:8080/"
        },
        "id": "pXc5BKrUITzF",
        "outputId": "2a8c04f0-5e01-424a-f750-b4919b4a453e"
      },
      "execution_count": 23,
      "outputs": [
        {
          "output_type": "stream",
          "name": "stdout",
          "text": [
            "Effect of Iterations (Splits) on Small Dataset:\n",
            "\n",
            "2-fold CV -> Avg Validation Accuracy: 0.9583, Test Accuracy: 1.0000\n",
            "3-fold CV -> Avg Validation Accuracy: 0.8750, Test Accuracy: 1.0000\n",
            "5-fold CV -> Avg Validation Accuracy: 0.8800, Test Accuracy: 1.0000\n"
          ]
        }
      ]
    },
    {
      "cell_type": "markdown",
      "metadata": {
        "id": "z-SBxy1qevgJ"
      },
      "source": [
        "> Exercise: How does the accuracy of the 3 nearest neighbour classifier change with the number of splits? How is it affected by the split size? Compare the results with the 1 nearest neighbour classifier."
      ]
    },
    {
      "cell_type": "markdown",
      "source": [
        "\n",
        "\n",
        "###  **1. Accuracy and Number of Splits (e.g., in cross-validation):**\n",
        "\n",
        "* **More Splits (like 10-fold cross-validation):**\n",
        "\n",
        "  * The training set in each split is larger.\n",
        "  * The model gets more data to learn from.\n",
        "  * Accuracy results are usually more stable and reliable.\n",
        "\n",
        "* **Fewer Splits (like 2-fold cross-validation):**\n",
        "\n",
        "  * The training set in each split is smaller.\n",
        "  * Accuracy may vary more and might not be reliable.\n",
        "\n",
        "---\n",
        "\n",
        "### **2. Effect of Split Size:**\n",
        "\n",
        "* If the **training set is large** (due to fewer validation points), the model learns better and gives higher accuracy.\n",
        "* If the **training set is small**, the model may not learn well, so accuracy may go down.\n",
        "* A balanced split gives better and more reliable results.\n",
        "\n",
        "---\n",
        "\n",
        "### **3. Comparing 3-Nearest Neighbour (3-NN) vs. 1-Nearest Neighbour (1-NN):**\n",
        "\n",
        "| Feature              | **1-NN**                            | **3-NN**                          |\n",
        "| -------------------- | ----------------------------------- | --------------------------------- |\n",
        "| Accuracy              | Can be high, but noisy               | More stable and often better  \n",
        "    |\n",
        "| Sensitivity to noise  | Very sensitive (depends on 1 point)  | Less sensitive (uses 3 neighbors)\n",
        "|\n",
        "| Generalization        | May overfit                          | Better generalization             |\n",
        "\n",
        "* **1-NN** may give high accuracy on training data but can perform poorly on unseen data.\n",
        "* **3-NN** smooths the decision by using multiple neighbors and often performs better overall.\n",
        "\n",
        "---\n",
        "\n",
        "###  **Conclusion:**\n",
        "\n",
        "* Increasing the number of splits (like in cross-validation) usually gives a better estimate of model accuracy.\n",
        "* The **3-NN classifier** is usually more accurate and reliable than **1-NN**, especially with a good split size.\n",
        "\n"
      ],
      "metadata": {
        "id": "OCX8BCrvDi-D"
      }
    },
    {
      "cell_type": "code",
      "source": [
        "import numpy as np\n",
        "import matplotlib.pyplot as plt\n",
        "from sklearn.neighbors import KNeighborsClassifier\n",
        "from sklearn.model_selection import train_test_split, KFold\n",
        "from sklearn.metrics import accuracy_score\n",
        "from sklearn.datasets import load_iris\n",
        "\n",
        "# Load Iris dataset (available offline)\n",
        "data = load_iris()\n",
        "X, y = data.data, data.target\n",
        "\n",
        "# Experiment parameters\n",
        "split_ratios = [0.1, 0.2, 0.3, 0.4, 0.5]\n",
        "kfold_splits = [2, 3, 5, 7, 10]\n",
        "n_repeats = 5\n",
        "\n",
        "def evaluate_model(X, y, val_ratio, model):\n",
        "    accuracies = []\n",
        "    for _ in range(n_repeats):\n",
        "        X_train, X_val, y_train, y_val = train_test_split(X, y, test_size=val_ratio)\n",
        "        model.fit(X_train, y_train)\n",
        "        accuracies.append(accuracy_score(y_val, model.predict(X_val)))\n",
        "    return np.mean(accuracies)\n",
        "\n",
        "def kfold_evaluate(X, y, n_splits, model):\n",
        "    kf = KFold(n_splits=n_splits, shuffle=True, random_state=42)\n",
        "    scores = []\n",
        "    for train_idx, val_idx in kf.split(X):\n",
        "        model.fit(X[train_idx], y[train_idx])\n",
        "        scores.append(accuracy_score(y[val_idx], model.predict(X[val_idx])))\n",
        "    return np.mean(scores)\n",
        "\n",
        "# Models\n",
        "knn1 = KNeighborsClassifier(n_neighbors=1)\n",
        "knn3 = KNeighborsClassifier(n_neighbors=3)\n",
        "\n",
        "# Validation size tests\n",
        "val_size_results = {'1-NN': [], '3-NN': []}\n",
        "for ratio in split_ratios:\n",
        "    val_size_results['1-NN'].append(evaluate_model(X, y, ratio, knn1))\n",
        "    val_size_results['3-NN'].append(evaluate_model(X, y, ratio, knn3))\n",
        "\n",
        "# K-Fold tests\n",
        "kfold_results = {'1-NN': [], '3-NN': []}\n",
        "for n in kfold_splits:\n",
        "    kfold_results['1-NN'].append(kfold_evaluate(X, y, n, knn1))\n",
        "    kfold_results['3-NN'].append(kfold_evaluate(X, y, n, knn3))\n",
        "\n",
        "# Plotting\n",
        "plt.figure(figsize=(14, 6))\n",
        "\n",
        "# Validation size plot\n",
        "plt.subplot(1, 2, 1)\n",
        "plt.plot(split_ratios, val_size_results['1-NN'], 'o-', label='1-NN', color='blue')\n",
        "plt.plot(split_ratios, val_size_results['3-NN'], 's-', label='3-NN', color='green')\n",
        "plt.title('Accuracy vs Validation Set Size')\n",
        "plt.xlabel('Validation Set Ratio')\n",
        "plt.ylabel('Accuracy')\n",
        "plt.grid(True)\n",
        "plt.legend()\n",
        "\n",
        "# K-Fold splits plot\n",
        "plt.subplot(1, 2, 2)\n",
        "plt.plot(kfold_splits, kfold_results['1-NN'], 'o-', label='1-NN', color='blue')\n",
        "plt.plot(kfold_splits, kfold_results['3-NN'], 's-', label='3-NN', color='green')\n",
        "plt.title('Accuracy vs Number of K-Fold Splits')\n",
        "plt.xlabel('Number of K-Fold Splits')\n",
        "plt.ylabel('Accuracy')\n",
        "plt.grid(True)\n",
        "plt.legend()\n",
        "\n",
        "plt.tight_layout()\n",
        "plt.show()\n"
      ],
      "metadata": {
        "colab": {
          "base_uri": "https://localhost:8080/",
          "height": 607
        },
        "id": "gMI-xCc1LWIX",
        "outputId": "6ee821b7-550e-42fc-d08a-592a54f9855f"
      },
      "execution_count": 27,
      "outputs": [
        {
          "output_type": "display_data",
          "data": {
            "text/plain": [
              "<Figure size 1400x600 with 2 Axes>"
            ],
            "image/png": "[encoded data removed]"
          },
          "metadata": {}
        }
      ]
    }
  ],
  "metadata": {
    "colab": {
      "provenance": [],
      "include_colab_link": true
    },
    "kernelspec": {
      "display_name": "Python 3",
      "name": "python3"
    },
    "language_info": {
      "codemirror_mode": {
        "name": "ipython",
        "version": 3
      },
      "file_extension": ".py",
      "mimetype": "text/x-python",
      "name": "python",
      "nbconvert_exporter": "python",
      "pygments_lexer": "ipython3",
      "version": "3.10.10"
    }
  },
  "nbformat": 4,
  "nbformat_minor": 0
}